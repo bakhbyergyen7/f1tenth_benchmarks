{
 "cells": [
  {
   "cell_type": "code",
   "execution_count": 1,
   "metadata": {
    "execution": {
     "iopub.execute_input": "2024-08-27T19:52:28.939898Z",
     "iopub.status.busy": "2024-08-27T19:52:28.939427Z",
     "iopub.status.idle": "2024-08-27T19:52:29.465666Z",
     "shell.execute_reply": "2024-08-27T19:52:29.465297Z"
    }
   },
   "outputs": [
    {
     "name": "stdout",
     "output_type": "stream",
     "text": [
      "Working from the repo root: /home/m810z573/Downloads/f1tenth_benchmarks/f1tenth_benchmarks\n",
      "Complied Full.csv and Summary.csv.\n"
     ]
    }
   ],
   "source": [
    "# import pandas as pd\n",
    "# import numpy as np\n",
    "# import os\n",
    "# import matplotlib.pyplot as plt\n",
    "# from matplotlib.collections import LineCollection\n",
    "# from f1tenth_benchmarks.utils.MapData import MapData\n",
    "# from f1tenth_benchmarks.data_tools.plotting_utils import *\n",
    "# from f1tenth_benchmarks.data_tools.process_data import process_data\n",
    "\n",
    "# if os.getcwd().split('/')[-1] == 'benchmark_results':\n",
    "#     os.chdir('..')\n",
    "#     os.chdir('..')\n",
    "#     print(f'Changed directory to root of repo: {os.getcwd()}')\n",
    "\n",
    "# save_path = 'Data/BenchmarkArticle/'\n",
    "# if not os.path.exists(save_path):\n",
    "#     os.makedirs(save_path)\n",
    "# process_data()\n",
    "\n",
    "import os\n",
    "import pandas as pd\n",
    "import numpy as np\n",
    "import matplotlib.pyplot as plt\n",
    "from matplotlib.collections import LineCollection\n",
    "# Ensure these modules can be imported from the new location\n",
    "from f1tenth_benchmarks.utils.MapData import MapData\n",
    "from f1tenth_benchmarks.data_tools.plotting_utils import *\n",
    "from f1tenth_benchmarks.data_tools.process_data import process_data\n",
    "\n",
    "# Explicitly define the root of the repo based on the known structure of your working directory\n",
    "repo_root = '/home/m810z573/Downloads/f1tenth_benchmarks/f1tenth_benchmarks'\n",
    "print(f'Working from the repo root: {repo_root}')\n",
    "\n",
    "# Now we use the repo_root for defining other paths\n",
    "save_path = os.path.join(repo_root, 'Data', 'BenchmarkArticle')\n",
    "if not os.path.exists(save_path):\n",
    "    os.makedirs(save_path)\n",
    "\n",
    "# Assuming process_data() works with paths relative to the repo root, adjust if necessary\n",
    "os.chdir(repo_root)  # Change the working directory to repo_root if required by process_data()\n",
    "process_data()"
   ]
  },
  {
   "cell_type": "markdown",
   "metadata": {},
   "source": [
    "# Load Data"
   ]
  },
  {
   "cell_type": "code",
   "execution_count": 2,
   "metadata": {
    "execution": {
     "iopub.execute_input": "2024-08-27T19:52:29.485032Z",
     "iopub.status.busy": "2024-08-27T19:52:29.484875Z",
     "iopub.status.idle": "2024-08-27T19:52:29.537539Z",
     "shell.execute_reply": "2024-08-27T19:52:29.537179Z"
    }
   },
   "outputs": [
    {
     "data": {
      "image/png": "[encoded data removed]",
      "text/plain": [
       "<Figure size 300x200 with 1 Axes>"
      ]
     },
     "metadata": {},
     "output_type": "display_data"
    }
   ],
   "source": [
    "planners = ['GlobalPlanPP', \"FollowTheGap\", \"EndToEnd\",  \"EndToEnd\",  \"TinyLidarNet\", \"TinyLidarNet\", \"TinyLidarNet\", \"TinyLidarNet\", \"TinyLidarNet\", \"TinyLidarNet\"]\n",
    "#planners = ['GlobalPlanPP', \"GlobalPlanMPCC\", \"EndToEnd\", \"TinyLidarNet\"]\n",
    "planners = ['GlobalPlanPP', \"FollowTheGap\", \"EndToEnd\",  \"EndToEnd\",  \"TinyLidarNet\", \"TinyLidarNet\", \"TinyLidarNet\", \"TinyLidarNet\", \"TinyLidarNet\", \"TinyLidarNet\", \"TinyLidarNet\"]\n",
    "planners = [\"EndToEnd\",  \"TinyLidarNet\", \"TinyLidarNet\", \"TinyLidarNet\", \"TinyLidarNet\", \"TinyLidarNet\", \"TinyLidarNet\", \"TinyLidarNet\"]\n",
    "planners = [\"EndToEnd\",  \"TinyLidarNet\", \"TinyLidarNet\", \"TinyLidarNet\"]#, \"TinyLidarNet\"]\n",
    "planners = [\"EndToEnd\",  \"EndToEnd\", \"EndToEnd\", \"TinyLidarNet\", \"TinyLidarNet\", \"TinyLidarNet\"]\n",
    "# test_ids = [\"benchmark\"] * 4\n",
    "test_ids = [\"benchmark_pp\", \"benchmark_ftg\", \"benchmark_e2e_il\", \"benchmark_e2e_drl\", \"benchmark_tiny_il\", \"benchmark_tiny_il_m\", \"benchmark_tiny_il_l\", \"benchmark_tiny_il_mean\", \"benchmark_tiny_il_min\", \"benchmark_tiny_il_max\"]\n",
    "test_ids = [\"benchmark_e2e_il_l\", \"benchmark_tiny_il\", \"benchmark_tiny_il_m\", \"benchmark_tiny_il_l\"]#, \"benchmark_tiny_il_temporal\", \"benchmark_tiny_il_birdeye\"]#, \"benchmark_tiny_il_mean\", \"benchmark_tiny_il_min\", \"benchmark_tiny_il_max\"]\n",
    "# test_ids = [\"benchmark_e2e_il`_l\", \"benchmark_tiny_il_m\", \"benchmark_tiny_il_mean\", \"benchmark_tiny_il_min\", \"benchmark_tiny_il_max\"]\n",
    "test_ids = [\"benchmark_e2e_il\", \"benchmark_e2e_il_m\", \"benchmark_e2e_il_l\", \"benchmark_tiny_il\", \"benchmark_tiny_il_m\", \"benchmark_tiny_il_l\"]\n",
    "\n",
    "\n",
    "neat_planner_names = [\n",
    "    #\"Opti. & tracking\",\n",
    "    #\"Follow-the-Gap\",\n",
    "    r\"MLP256$^s$\",\n",
    "    r\"MLP256$^m$\",\n",
    "    r\"MLP256$^l$\",\n",
    "    # \"MLP128\",\n",
    "    #\"MLP256(DRL)\",\n",
    "    r\"TinyLidarNet$^s$\",\n",
    "    r\"TinyLidarNet$^m$\",\n",
    "    r\"TinyLidarNet$^l$\",\n",
    "    # r\"TinyLidarNet$^temporal$\",\n",
    "    # r\"TinyLidarNet$^birdeye$\",\n",
    "    #r\"TinyLidarNet$^s$$_{mean}$\",\n",
    "    #r\"TinyLidarNet$^s$$_{min}$\",\n",
    "    #r\"TinyLidarNet$^s$$_{max}$\",\n",
    "    #'TinyLidarNet(DRL)'\n",
    "]\n",
    "\n",
    "\n",
    "\n",
    "n_planners = len(planners)\n",
    "map_list = [\"example\",\"MoscowRaceway\", \"Austin\", \"Spielberg\"]\n",
    "\n",
    "#planner_colors = [chrome_yellow, lighter_purple]\n",
    "planner_colors = [red_orange,   minty_green, disco_ball, chrome_yellow,  good_grey, free_speech,   vibe_yellow, periwinkle, sweedish_green, high_pink,]\n",
    "#planner_colors = [red_orange,   minty_green, chrome_yellow, disco_ball, good_grey, free_speech,   vibe_yellow]\n",
    "\n",
    "plt.figure(figsize=(3, 2))\n",
    "for i in range(n_planners):\n",
    "    plt.plot([i, i], [0, 1], color=planner_colors[i], linewidth=80)\n",
    "    "
   ]
  },
  {
   "cell_type": "code",
   "execution_count": 3,
   "metadata": {
    "execution": {
     "iopub.execute_input": "2024-08-27T19:52:29.539215Z",
     "iopub.status.busy": "2024-08-27T19:52:29.538987Z",
     "iopub.status.idle": "2024-08-27T19:52:29.648582Z",
     "shell.execute_reply": "2024-08-27T19:52:29.648237Z"
    }
   },
   "outputs": [
    {
     "name": "stdout",
     "output_type": "stream",
     "text": [
      "Complied Full.csv and Summary.csv.\n",
      "MapName               AUSTIN  MOSCOWRACEWAY  SPIELBERG  EXAMPLE\n",
      "TestID                                                         \n",
      "benchmark_tiny_il_m  79.9875        59.5050    61.5375  25.8325\n",
      "benchmark_tiny_il_l  85.6750        63.2775    65.3750  26.7375\n",
      "benchmark_tiny_il    83.3950        61.8350    64.1375  26.9075\n",
      "benchmark_e2e_il_m       NaN            NaN        NaN      NaN\n",
      "benchmark_e2e_il_l       NaN        58.8000    58.3417      NaN\n",
      "benchmark_e2e_il         NaN            NaN    62.1750  27.5708\n"
     ]
    }
   ],
   "source": [
    "process_data()\n",
    "\n",
    "summary_df = pd.read_csv(\"/home/m810z573/Downloads/f1tenth_benchmarks/f1tenth_benchmarks/benchmark_results/Logs/Summary.csv\")\n",
    "results_df = summary_df.loc[summary_df.Vehicle.isin(planners)]\n",
    "results_df = results_df.loc[results_df.TestID.isin(test_ids)]\n",
    "\n",
    "# print(results_df)\n",
    "\n",
    "times_df = results_df[['TestID', 'MapName', 'AvgTime']]\n",
    "times_df = times_df.pivot(index=\"TestID\", columns=\"MapName\", values=\"AvgTime\")\n",
    "times_df.columns = times_df.columns.str.upper()\n",
    "times_df.rename(index=dict(zip(planners, neat_planner_names)), inplace=True)\n",
    "times_df.sort_values(by=\"TestID\", inplace=True, ascending=False)\n",
    "times_df = times_df[['AUSTIN', 'MOSCOWRACEWAY', 'SPIELBERG', 'EXAMPLE']]\n",
    "print(times_df)\n",
    "\n",
    "times_df.to_latex(f\"{save_path}benchmark_laptimes.tex\", float_format=\"%.2f\")\n"
   ]
  },
  {
   "cell_type": "code",
   "execution_count": 4,
   "metadata": {
    "execution": {
     "iopub.execute_input": "2024-08-27T19:52:29.650110Z",
     "iopub.status.busy": "2024-08-27T19:52:29.649966Z",
     "iopub.status.idle": "2024-08-27T19:52:29.730866Z",
     "shell.execute_reply": "2024-08-27T19:52:29.730539Z"
    }
   },
   "outputs": [
    {
     "name": "stdout",
     "output_type": "stream",
     "text": [
      "Complied Full.csv and Summary.csv.\n",
      "TestMap              AUSTIN  MOSCOWRACEWAY  SPIELBERG  EXAMPLE\n",
      "TestID                                                        \n",
      "benchmark_e2e_il        NaN            NaN       10.0     60.0\n",
      "benchmark_e2e_il_l      NaN           10.0       30.0      NaN\n",
      "benchmark_e2e_il_m      NaN            NaN        NaN      NaN\n",
      "benchmark_tiny_il     100.0          100.0      100.0    100.0\n",
      "benchmark_tiny_il_l   100.0          100.0      100.0    100.0\n",
      "benchmark_tiny_il_m   100.0          100.0      100.0    100.0\n"
     ]
    }
   ],
   "source": [
    "process_data()\n",
    "\n",
    "summary_df = pd.read_csv(\"/home/m810z573/Downloads/f1tenth_benchmarks/f1tenth_benchmarks/benchmark_results/Logs/Full.csv\")\n",
    "results_df = summary_df.loc[summary_df.TestID.isin(test_ids)]\n",
    "\n",
    "#print(results_df)\n",
    "times_df = results_df[['TestID', 'TestMap', 'LapComplete']]\n",
    "complete_df = results_df[results_df['LapComplete'] == True]\n",
    "\n",
    "# Group by TestID and TestMap, count crashes and total laps\n",
    "complete_counts = complete_df.groupby(['TestID', 'TestMap']).count()['LapComplete']\n",
    "total_laps = results_df.groupby(['TestID', 'TestMap']).count()['LapComplete']\n",
    "\n",
    "# Calculate crash percentage\n",
    "complete_percentage = (complete_counts / total_laps) * 100\n",
    "\n",
    "# Reset index to get TestID and TestMap back as columns\n",
    "complete_percentage = complete_percentage.reset_index()\n",
    "\n",
    "# Rename the column for clarity\n",
    "complete_percentage.rename(columns={'LapComplete': 'CompletionRate'}, inplace=True)\n",
    "\n",
    "\n",
    "# Pivot the DataFrame\n",
    "complete_percentage = complete_percentage.pivot(index='TestID', columns='TestMap', values='CompletionRate')\n",
    "complete_percentage.columns = complete_percentage.columns.str.upper()\n",
    "complete_percentage = complete_percentage[['AUSTIN', 'MOSCOWRACEWAY', 'SPIELBERG', 'EXAMPLE']]\n",
    "# Display the pivoted DataFrame\n",
    "print(complete_percentage)\n"
   ]
  },
  {
   "cell_type": "code",
   "execution_count": 5,
   "metadata": {
    "execution": {
     "iopub.execute_input": "2024-08-27T19:52:29.732366Z",
     "iopub.status.busy": "2024-08-27T19:52:29.732255Z",
     "iopub.status.idle": "2024-08-27T19:52:29.740441Z",
     "shell.execute_reply": "2024-08-27T19:52:29.740183Z"
    }
   },
   "outputs": [
    {
     "name": "stdout",
     "output_type": "stream",
     "text": [
      "TestMap               AUSTIN  MOSCOWRACEWAY  SPIELBERG  EXAMPLE\n",
      "TestID                                                         \n",
      "benchmark_e2e_il      48.249         28.553     37.085   77.002\n",
      "benchmark_e2e_il_l    16.189         42.397     61.113   30.888\n",
      "benchmark_e2e_il_m     3.552          3.732      3.756   41.990\n",
      "benchmark_tiny_il    100.000        100.000    100.000  100.000\n",
      "benchmark_tiny_il_l  100.000        100.000    100.000  100.000\n",
      "benchmark_tiny_il_m  100.000        100.000    100.000  100.000\n"
     ]
    },
    {
     "name": "stderr",
     "output_type": "stream",
     "text": [
      "/tmp/ipykernel_2905761/3978232171.py:5: SettingWithCopyWarning: \n",
      "A value is trying to be set on a copy of a slice from a DataFrame.\n",
      "Try using .loc[row_indexer,col_indexer] = value instead\n",
      "\n",
      "See the caveats in the documentation: https://pandas.pydata.org/pandas-docs/stable/user_guide/indexing.html#returning-a-view-versus-a-copy\n",
      "  progress_df['Progress'] = progress_df['Progress'].apply(lambda x: 1 if x >= 0.995 else x)\n"
     ]
    }
   ],
   "source": [
    "# Extract relevant columns\n",
    "progress_df = results_df[['TestID', 'TestMap', 'Progress']]\n",
    "\n",
    "# Filter progress for values greater than 0.995\n",
    "progress_df['Progress'] = progress_df['Progress'].apply(lambda x: 1 if x >= 0.995 else x)\n",
    "\n",
    "# Group by TestID and TestMap, calculate average progress\n",
    "average_progress = progress_df.groupby(['TestID', 'TestMap']).mean()['Progress']\n",
    "\n",
    "# Reset index to get TestID and TestMap back as columns\n",
    "average_progress = average_progress.reset_index()\n",
    "\n",
    "average_progress['Progress'] = average_progress['Progress'] * 100\n",
    "\n",
    "# Pivot the DataFrame\n",
    "average_progress = average_progress.pivot(index='TestID', columns='TestMap', values='Progress')\n",
    "average_progress.columns = average_progress.columns.str.upper()\n",
    "average_progress = average_progress[['AUSTIN', 'MOSCOWRACEWAY', 'SPIELBERG', 'EXAMPLE']]\n",
    "\n",
    "# Display the pivoted DataFrame\n",
    "average_progress.to_csv('Progress.csv')\n",
    "\n",
    "print(average_progress)\n"
   ]
  },
  {
   "cell_type": "code",
   "execution_count": 6,
   "metadata": {
    "execution": {
     "iopub.execute_input": "2024-08-27T19:52:29.741894Z",
     "iopub.status.busy": "2024-08-27T19:52:29.741696Z",
     "iopub.status.idle": "2024-08-27T19:52:29.750061Z",
     "shell.execute_reply": "2024-08-27T19:52:29.749760Z"
    }
   },
   "outputs": [
    {
     "name": "stdout",
     "output_type": "stream",
     "text": [
      "Index(['AUSTIN', 'MOSCOWRACEWAY', 'SPIELBERG', 'EXAMPLE'], dtype='object', name='MapName')\n",
      "Index(['AUSTIN', 'MOSCOWRACEWAY', 'SPIELBERG', 'EXAMPLE'], dtype='object', name='TestMap')\n",
      "                     AUSTIN_AvgTime  AUSTIN_CompletionRate  EXAMPLE_AvgTime  \\\n",
      "TestID                                                                        \n",
      "benchmark_e2e_il                NaN                    NaN          27.5708   \n",
      "benchmark_e2e_il_l              NaN                    NaN              NaN   \n",
      "benchmark_e2e_il_m              NaN                    NaN              NaN   \n",
      "benchmark_tiny_il           83.3950                  100.0          26.9075   \n",
      "benchmark_tiny_il_l         85.6750                  100.0          26.7375   \n",
      "benchmark_tiny_il_m         79.9875                  100.0          25.8325   \n",
      "\n",
      "                     EXAMPLE_CompletionRate  MOSCOWRACEWAY_AvgTime  \\\n",
      "TestID                                                               \n",
      "benchmark_e2e_il                       60.0                    NaN   \n",
      "benchmark_e2e_il_l                      NaN                58.8000   \n",
      "benchmark_e2e_il_m                      NaN                    NaN   \n",
      "benchmark_tiny_il                     100.0                61.8350   \n",
      "benchmark_tiny_il_l                   100.0                63.2775   \n",
      "benchmark_tiny_il_m                   100.0                59.5050   \n",
      "\n",
      "                     MOSCOWRACEWAY_CompletionRate  SPIELBERG_AvgTime  \\\n",
      "TestID                                                                 \n",
      "benchmark_e2e_il                              NaN            62.1750   \n",
      "benchmark_e2e_il_l                           10.0            58.3417   \n",
      "benchmark_e2e_il_m                            NaN                NaN   \n",
      "benchmark_tiny_il                           100.0            64.1375   \n",
      "benchmark_tiny_il_l                         100.0            65.3750   \n",
      "benchmark_tiny_il_m                         100.0            61.5375   \n",
      "\n",
      "                     SPIELBERG_CompletionRate  \n",
      "TestID                                         \n",
      "benchmark_e2e_il                         10.0  \n",
      "benchmark_e2e_il_l                       30.0  \n",
      "benchmark_e2e_il_m                        NaN  \n",
      "benchmark_tiny_il                       100.0  \n",
      "benchmark_tiny_il_l                     100.0  \n",
      "benchmark_tiny_il_m                     100.0  \n"
     ]
    }
   ],
   "source": [
    "summary_df = pd.read_csv(\"/home/m810z573/Downloads/f1tenth_benchmarks/f1tenth_benchmarks/benchmark_results/Logs/Summary.csv\")\n",
    "results_df = summary_df.loc[summary_df.Vehicle.isin(planners)]\n",
    "results_df = results_df.loc[results_df.TestID.isin(test_ids)]\n",
    "\n",
    "# print(results_df)\n",
    "\n",
    "times_df = results_df[['TestID', 'MapName', 'AvgTime']]\n",
    "times_df = times_df.pivot(index=\"TestID\", columns=\"MapName\", values=\"AvgTime\")\n",
    "times_df.columns = times_df.columns.str.upper()\n",
    "times_df = times_df[['AUSTIN', 'MOSCOWRACEWAY', 'SPIELBERG', 'EXAMPLE']]\n",
    "print(times_df.columns)\n",
    "print(complete_percentage.columns)\n",
    "combined_df = pd.merge(times_df, complete_percentage, left_index=True, right_index=True, suffixes=('_AvgTime', '_CompletionRate'))\n",
    "\n",
    "# Sort columns for consistency\n",
    "combined_df = combined_df.sort_index(axis=1, level=0)\n",
    "\n",
    "# Display the combined DataFrame\n",
    "print(combined_df)\n"
   ]
  },
  {
   "cell_type": "code",
   "execution_count": 7,
   "metadata": {
    "execution": {
     "iopub.execute_input": "2024-08-27T19:52:29.751558Z",
     "iopub.status.busy": "2024-08-27T19:52:29.751340Z",
     "iopub.status.idle": "2024-08-27T19:52:29.753526Z",
     "shell.execute_reply": "2024-08-27T19:52:29.753256Z"
    }
   },
   "outputs": [],
   "source": [
    "# plot_map = \"example\"\n",
    "# lap_n = 3\n",
    "# map_data = MapData(plot_map)\n",
    "# lap_dfs = []\n",
    "# print(os.getcwd())\n",
    "\n",
    "# for i, planner_name in enumerate(planners):\n",
    "#     data = np.load(f\"/home/m810z573/Downloads/f1tenth_benchmarks/f1tenth_benchmarks/benchmark_results/Logs/{planner_name}/RawData_{test_ids[i]}/SimLog_{plot_map}_{lap_n}.npy\")[1:, :] #remove first repeated entry\n",
    "#     df = pd.DataFrame(data, columns=[\"x\", \"y\", \"steer\", \"speed\", \"yaw\", \"yaw_rate\", \"slip\", \"steer_a\", \"speed_a\", \"progress\"])\n",
    "#     # df[\"planner\"] = planner_name\n",
    "#     df[\"planner\"] = test_ids[i]\n",
    "\n",
    "#     lap_dfs.append(df)\n",
    "# lap_df = pd.concat(lap_dfs)\n",
    "\n",
    "# fig, axs = plt.subplots(2, 1, figsize=(7., 6), sharex=True, sharey=True)\n",
    "# axs_list = axs.flatten()\n",
    "# test_id_itr = 0\n",
    "# test_id_display = [\"benchmark_e2e_il_l\", \"benchmark_tiny_il_m\"]\n",
    "# # line = None\n",
    "# for i in range(n_planners-2):\n",
    "#     plt.sca(axs_list[i])\n",
    "#     map_data.plot_map_img()\n",
    "\n",
    "#     while test_id_display[i] not in test_ids[test_id_itr]:\n",
    "#         test_id_itr+=1\n",
    "#     df = lap_df[lap_df[\"planner\"] == test_ids[test_id_itr]]\n",
    "#     #df = lap_df[lap_df[\"planner\"] == test_ids[i]]\n",
    "#     xs, ys = map_data.xy2rc(df.x, df.y)\n",
    "#     pts = np.array([xs, ys]).T.reshape(-1, 1, 2)\n",
    "#     segments = np.concatenate([pts[:-1], pts[1:]], axis=1)\n",
    "#     norm = plt.Normalize(1, 8)\n",
    "#     lc = LineCollection(segments, cmap='coolwarm', norm=norm)\n",
    "#     lc.set_array(df.speed.values)\n",
    "#     lc.set_linewidth(4)\n",
    "#     line = plt.gca().add_collection(lc)\n",
    "        \n",
    "#     plt.axis('off')\n",
    "#     axs_list[i].set_aspect('equal')\n",
    "#     plt.xlim(250, 1400)\n",
    "#     plt.ylim(400, 1200)\n",
    "#     plt.text(0.5, 0.5, neat_planner_names[test_id_itr], horizontalalignment='center', verticalalignment='center', transform=axs_list[i].transAxes, size=14)\n",
    "\n",
    "# # Remove the last subplot\n",
    "# # fig.delaxes(axs_list[-1])\n",
    "\n",
    "# # Add colorbar\n",
    "# cax = fig.add_axes([axs_list[-1].get_position().x1+0.08, axs_list[-1].get_position().y0+0.18, 0.015, axs_list[-1].get_position().height*1.2])\n",
    "# plt.colorbar(line, cax=cax, label=\"Speed [m/s]\", ticks=[1, 2, 3, 4, 5, 6, 7,8])\n",
    "\n",
    "# plt.tight_layout()\n",
    "# plt.savefig(f\"{save_path}speed_trajectories_{plot_map}.pdf\", bbox_inches='tight')\n"
   ]
  },
  {
   "cell_type": "code",
   "execution_count": 8,
   "metadata": {
    "execution": {
     "iopub.execute_input": "2024-08-27T19:52:29.754922Z",
     "iopub.status.busy": "2024-08-27T19:52:29.754765Z",
     "iopub.status.idle": "2024-08-27T19:52:29.757004Z",
     "shell.execute_reply": "2024-08-27T19:52:29.756659Z"
    }
   },
   "outputs": [],
   "source": [
    "# map_name = \"example\"\n",
    "# lap_n = 3\n",
    "\n",
    "# lap_dfs = []\n",
    "# for i, planner_name in enumerate(planners):\n",
    "#     data = np.load(f\"/home/m810z573/Downloads/f1tenth_benchmarks/f1tenth_benchmarks/benchmark_results/Logs/{planner_name}/RawData_{test_ids[i]}/SimLog_{plot_map}_{lap_n}.npy\")[1:, :] #remove first repeated entry\n",
    "#     df = pd.DataFrame(data, columns=[\"x\", \"y\", \"steer\", \"speed\", \"yaw\", \"yaw_rate\", \"slip\", \"steer_a\", \"speed_a\", \"progress\"])\n",
    "#     #df[\"planner\"] = planner_name\n",
    "#     df[\"planner\"] = test_ids[i]\n",
    "\n",
    "#     lap_dfs.append(df)\n",
    "\n",
    "\n",
    "# lap_df = pd.concat(lap_dfs)\n",
    "# fig, ax1 = plt.subplots(1, 1, figsize=(15., 7.2), sharex=True)\n",
    "# map_data = MapData(map_name)\n",
    "\n",
    "# test_id_itr = 0\n",
    "# test_id_display = [\"benchmark_e2e_il_l\", \"benchmark_tiny_il_m\"]\n",
    "# for test_id_itr in range(len(test_id_display)):\n",
    "#     for i in range(n_planners):\n",
    "#         if test_id_display[test_id_itr] in test_ids[i]:\n",
    "#             df = lap_df[lap_df[\"planner\"] == test_ids[i]]\n",
    "#             ax1.plot(df[\"progress\"]*100, df[\"speed\"], label=neat_planner_names[i], alpha=0.99, color=planner_colors[i], linewidth=2.4)\n",
    "\n",
    "\n",
    "# # for i in range(n_planners):\n",
    "# #     #df = lap_df[lap_df[\"planner\"] == planners[i]]\n",
    "# #     # df = lap_df[lap_df[\"planner\"] == test_ids[i]]\n",
    "\n",
    "# #     ax1.plot(df[\"progress\"]*100, df[\"speed\"], label=neat_planner_names[i], alpha=0.99, color=planner_colors[i], linewidth=2.4)\n",
    "\n",
    "# ax1.grid(True)\n",
    "# ax1.set_ylim(1., 8.5)\n",
    "# ax1.yaxis.set_major_locator(plt.MaxNLocator(4))\n",
    "\n",
    "# plt.legend(ncol=4, loc=\"center\", bbox_to_anchor=(0.48, 1.15), fontsize=20)\n",
    "# plt.xlabel(\"Track progress [%]\", fontsize=24)\n",
    "# plt.ylabel(\"Speed [m/s]\", fontsize=24)\n",
    "# plt.xticks(fontsize=20)\n",
    "# plt.yticks(fontsize=20)\n",
    "# plt.tight_layout()\n",
    "# plt.savefig(f\"{save_path}speed_comparison_{map_name}.pdf\", bbox_inches='tight', pad_inches=0.0)\n",
    "# plt.savefig(f\"{save_path}speed_comparison_{map_name}.svg\", bbox_inches='tight', pad_inches=0.0)\n",
    "# print(save_path)"
   ]
  },
  {
   "cell_type": "code",
   "execution_count": 9,
   "metadata": {
    "execution": {
     "iopub.execute_input": "2024-08-27T19:52:29.758433Z",
     "iopub.status.busy": "2024-08-27T19:52:29.758246Z",
     "iopub.status.idle": "2024-08-27T19:52:29.760262Z",
     "shell.execute_reply": "2024-08-27T19:52:29.759928Z"
    }
   },
   "outputs": [],
   "source": [
    "# plot_map = \"example\"\n",
    "# lap_n = 7\n",
    "# lap_dfs = []\n",
    "# for i, planner_name in enumerate(planners):\n",
    "#     data = np.load(f\"/home/m810z573/Downloads/f1tenth_benchmarks/f1tenth_benchmarks/benchmark_results/Logs/{planner_name}/RawData_{test_ids[i]}/SimLog_{plot_map}_{lap_n}.npy\")[1:, :] #remove first repeated entry\n",
    "#     df = pd.DataFrame(data, columns=[\"x\", \"y\", \"steer\", \"speed\", \"yaw\", \"yaw_rate\", \"slip\", \"steer_a\", \"speed_a\", \"progress\"])\n",
    "#     #df[\"planner\"] = planner_name\n",
    "#     df[\"planner\"] = test_ids[i]\n",
    "\n",
    "#     lap_dfs.append(df)\n",
    "# lap_df = pd.concat(lap_dfs)\n",
    "\n",
    "# map_data = MapData(plot_map)\n",
    "# map_data.plot_map_img()\n",
    "# for i in range(n_planners-3):\n",
    "#     #df = lap_df[lap_df[\"planner\"] == planners[i]]\n",
    "#     if test_ids[i] not in [\"benchmark_e2e_drl\",]:\n",
    "#         df = lap_df[lap_df[\"planner\"] == test_ids[i]]\n",
    "\n",
    "#         xs, ys = map_data.xy2rc(df.x, df.y)\n",
    "#         plt.plot(xs, ys, linewidth=2.8, color=planner_colors[i], label=neat_planner_names[i])\n",
    "    \n",
    "# plt.axis('off')\n",
    "# plt.legend()\n",
    "# # plt.xlim(200, 1400)\n",
    "# # plt.ylim(400, 1300)\n",
    "# plt.xlim(800, 1800)\n",
    "# plt.ylim(500, 1500)\n",
    "\n",
    "# plt.tight_layout()"
   ]
  },
  {
   "cell_type": "code",
   "execution_count": 10,
   "metadata": {
    "execution": {
     "iopub.execute_input": "2024-08-27T19:52:29.761651Z",
     "iopub.status.busy": "2024-08-27T19:52:29.761427Z",
     "iopub.status.idle": "2024-08-27T19:52:29.763382Z",
     "shell.execute_reply": "2024-08-27T19:52:29.763107Z"
    }
   },
   "outputs": [],
   "source": [
    "# plot_map = \"example\"\n",
    "# lap_n = 5\n",
    "# lap_dfs = []\n",
    "# for i, planner_name in enumerate(planners):\n",
    "#     data = np.load(f\"/home/m810z573/Downloads/f1tenth_benchmarks/f1tenth_benchmarks/benchmark_results/Logs/{planner_name}/RawData_{test_ids[i]}/SimLog_{plot_map}_{lap_n}.npy\")[1:, :] #remove first repeated entry\n",
    "#     df = pd.DataFrame(data, columns=[\"x\", \"y\", \"steer\", \"speed\", \"yaw\", \"yaw_rate\", \"slip\", \"steer_a\", \"speed_a\", \"progress\"])\n",
    "#     #df[\"planner\"] = planner_name\n",
    "#     df[\"planner\"] = test_ids[i]\n",
    "\n",
    "#     lap_dfs.append(df)\n",
    "# lap_df = pd.concat(lap_dfs)\n",
    "\n",
    "# map_data = MapData(plot_map)\n",
    "# map_data.plot_map_img()\n",
    "# for i in range(n_planners-3):\n",
    "#     #df = lap_df[lap_df[\"planner\"] == planners[i]]\n",
    "#     if test_ids[i] not in [\"benchmark_tiny_il_l\",\"benchmark_tiny_il\"]:\n",
    "#         df = lap_df[lap_df[\"planner\"] == test_ids[i]]\n",
    "\n",
    "#         xs, ys = map_data.xy2rc(df.x, df.y)\n",
    "#         plt.plot(xs, ys, linewidth=2.8, color=planner_colors[i], label=neat_planner_names[i])\n",
    "    \n",
    "# plt.axis('off')\n",
    "# plt.legend()\n",
    "# # plt.xlim(200, 1400)\n",
    "# # plt.ylim(400, 1300)\n",
    "# plt.xlim(800, 1800)\n",
    "# plt.ylim(500, 1500)\n",
    "\n",
    "# plt.tight_layout()"
   ]
  },
  {
   "cell_type": "code",
   "execution_count": 11,
   "metadata": {
    "execution": {
     "iopub.execute_input": "2024-08-27T19:52:29.764758Z",
     "iopub.status.busy": "2024-08-27T19:52:29.764525Z",
     "iopub.status.idle": "2024-08-27T19:52:29.766371Z",
     "shell.execute_reply": "2024-08-27T19:52:29.766109Z"
    }
   },
   "outputs": [],
   "source": [
    "# plot_map = \"example\"\n",
    "# lap_n = 5\n",
    "# lap_dfs = []\n",
    "# for i, planner_name in enumerate(planners):\n",
    "#     data = np.load(f\"/home/m810z573/Downloads/f1tenth_benchmarks/f1tenth_benchmarks/benchmark_results/Logs/{planner_name}/RawData_{test_ids[i]}/SimLog_{plot_map}_{lap_n}.npy\")[1:, :] #remove first repeated entry\n",
    "#     df = pd.DataFrame(data, columns=[\"x\", \"y\", \"steer\", \"speed\", \"yaw\", \"yaw_rate\", \"slip\", \"steer_a\", \"speed_a\", \"progress\"])\n",
    "#     #df[\"planner\"] = planner_name\n",
    "#     df[\"planner\"] = test_ids[i]\n",
    "\n",
    "#     lap_dfs.append(df)\n",
    "# lap_df = pd.concat(lap_dfs)\n",
    "\n",
    "# map_data = MapData(plot_map)\n",
    "# map_data.plot_map_img()\n",
    "# for i in range(n_planners-3):\n",
    "#     #df = lap_df[lap_df[\"planner\"] == planners[i]]\n",
    "#     if test_ids[i] not in [\"benchmark_e2e_drl\", \"benchmark_pp\",\"benchmark_ftg\"]:\n",
    "#         df = lap_df[lap_df[\"planner\"] == test_ids[i]]\n",
    "\n",
    "#         xs, ys = map_data.xy2rc(df.x, df.y)\n",
    "#         plt.plot(xs, ys, linewidth=2.8, color=planner_colors[i], label=neat_planner_names[i])\n",
    "    \n",
    "# plt.axis('off')\n",
    "# plt.legend()\n",
    "# # plt.xlim(200, 1400)\n",
    "# # plt.ylim(400, 1300)\n",
    "# plt.xlim(800, 1800)\n",
    "# plt.ylim(500, 1500)\n",
    "\n",
    "# plt.tight_layout()\n"
   ]
  },
  {
   "cell_type": "code",
   "execution_count": 12,
   "metadata": {
    "execution": {
     "iopub.execute_input": "2024-08-27T19:52:29.767736Z",
     "iopub.status.busy": "2024-08-27T19:52:29.767599Z",
     "iopub.status.idle": "2024-08-27T19:52:29.769688Z",
     "shell.execute_reply": "2024-08-27T19:52:29.769392Z"
    }
   },
   "outputs": [],
   "source": [
    "# map_name = \"MoscowRaceway\"\n",
    "# lap_n = 3\n",
    "\n",
    "# lap_dfs = []\n",
    "# for i, planner_name in enumerate(planners):\n",
    "#     data = np.load(f\"/home/m810z573/Downloads/f1tenth_benchmarks/f1tenth_benchmarks/benchmark_results/Logs/{planner_name}/RawData_{test_ids[i]}/SimLog_{plot_map}_{lap_n}.npy\")[1:, :] #remove first repeated entry\n",
    "#     df = pd.DataFrame(data, columns=[\"x\", \"y\", \"steer\", \"speed\", \"yaw\", \"yaw_rate\", \"slip\", \"steer_a\", \"speed_a\", \"progress\"])\n",
    "#     #df[\"planner\"] = planner_name\n",
    "#     df[\"planner\"] = test_ids[i]\n",
    "    \n",
    "    \n",
    "#     lap_dfs.append(df)\n",
    "\n",
    "\n",
    "# lap_df = pd.concat(lap_dfs)\n",
    "\n",
    "# fig, ax1 = plt.subplots(1, 1, figsize=(10., 5.2), sharex=True)\n",
    "# map_data = MapData(map_name)\n",
    "\n",
    "# for i in range(n_planners-3):\n",
    "#     if test_ids[i] not in [\"benchmark_e2e_drl\", \"benchmark_tiny_il_m\",\"benchmark_tiny_il\"]:\n",
    "#         df = lap_df[lap_df[\"planner\"] == test_ids[i]]\n",
    "#         ax1.plot(df[\"progress\"]*100, df[\"speed\"], label=neat_planner_names[i], alpha=0.99, color=planner_colors[i], linewidth=2.4)\n",
    "\n",
    "# ax1.grid(True)\n",
    "# ax1.set_ylim(1., 8.5)\n",
    "# ax1.yaxis.set_major_locator(plt.MaxNLocator(4))\n",
    "\n",
    "# plt.legend(ncol=4, loc=\"center\", bbox_to_anchor=(0.48, 1.15), fontsize=10)\n",
    "# plt.xlabel(\"Track progress [%]\")\n",
    "# plt.ylabel(\"Speed [m/s]\")\n"
   ]
  },
  {
   "cell_type": "code",
   "execution_count": 13,
   "metadata": {
    "execution": {
     "iopub.execute_input": "2024-08-27T19:52:29.771131Z",
     "iopub.status.busy": "2024-08-27T19:52:29.770895Z",
     "iopub.status.idle": "2024-08-27T19:52:29.772890Z",
     "shell.execute_reply": "2024-08-27T19:52:29.772521Z"
    }
   },
   "outputs": [],
   "source": [
    "# map_name = \"MoscowRaceway\"\n",
    "# lap_n = 5\n",
    "\n",
    "# lap_dfs = []\n",
    "# for i, planner_name in enumerate(planners):\n",
    "#     data = np.load(f\"/home/m810z573/Downloads/f1tenth_benchmarks/f1tenth_benchmarks/benchmark_results/Logs/{planner_name}/RawData_{test_ids[i]}/SimLog_{plot_map}_{lap_n}.npy\")[1:, :] #remove first repeated entry\n",
    "#     df = pd.DataFrame(data, columns=[\"x\", \"y\", \"steer\", \"speed\", \"yaw\", \"yaw_rate\", \"slip\", \"steer_a\", \"speed_a\", \"progress\"])\n",
    "#     #df[\"planner\"] = planner_name\n",
    "#     df[\"planner\"] = test_ids[i]\n",
    "    \n",
    "    \n",
    "#     lap_dfs.append(df)\n",
    "\n",
    "\n",
    "# lap_df = pd.concat(lap_dfs)\n",
    "\n",
    "# fig, ax1 = plt.subplots(1, 1, figsize=(10., 5.2), sharex=True)\n",
    "# map_data = MapData(map_name)\n",
    "\n",
    "# for i in range(n_planners-3):\n",
    "#     if test_ids[i] not in [\"benchmark_e2e_drl\", \"benchmark_pp\",\"benchmark_ftg\"]:\n",
    "#         df = lap_df[lap_df[\"planner\"] == test_ids[i]]\n",
    "#         ax1.plot(df[\"progress\"]*100, df[\"speed\"], label=neat_planner_names[i], alpha=0.99, color=planner_colors[i], linewidth=2.4)\n",
    "\n",
    "# ax1.grid(True)\n",
    "# ax1.set_ylim(1., 8.5)\n",
    "# ax1.yaxis.set_major_locator(plt.MaxNLocator(4))\n",
    "\n",
    "# plt.legend(ncol=4, loc=\"center\", bbox_to_anchor=(0.48, 1.15), fontsize=10)\n",
    "# plt.xlabel(\"Track progress [%]\")\n",
    "# plt.ylabel(\"Speed [m/s]\")\n",
    "\n",
    "# plt.tight_layout()"
   ]
  },
  {
   "cell_type": "code",
   "execution_count": 14,
   "metadata": {
    "execution": {
     "iopub.execute_input": "2024-08-27T19:52:29.774504Z",
     "iopub.status.busy": "2024-08-27T19:52:29.774384Z",
     "iopub.status.idle": "2024-08-27T19:52:29.776512Z",
     "shell.execute_reply": "2024-08-27T19:52:29.776236Z"
    }
   },
   "outputs": [],
   "source": [
    "# map_name = \"MoscowRaceway\"\n",
    "# lap_n = 5\n",
    "\n",
    "# lap_dfs = []\n",
    "# for i, planner_name in enumerate(planners):\n",
    "#     data = np.load(f\"/home/m810z573/Downloads/f1tenth_benchmarks/f1tenth_benchmarks/benchmark_results/Logs/{planner_name}/RawData_{test_ids[i]}/SimLog_{plot_map}_{lap_n}.npy\")[1:, :] #remove first repeated entry\n",
    "#     df = pd.DataFrame(data, columns=[\"x\", \"y\", \"steer\", \"speed\", \"yaw\", \"yaw_rate\", \"slip\", \"steer_a\", \"speed_a\", \"progress\"])\n",
    "#     #df[\"planner\"] = planner_name\n",
    "#     df[\"planner\"] = test_ids[i]\n",
    "    \n",
    "    \n",
    "#     lap_dfs.append(df)\n",
    "\n",
    "\n",
    "# lap_df = pd.concat(lap_dfs)\n",
    "\n",
    "# fig, ax1 = plt.subplots(1, 1, figsize=(10., 5.2), sharex=True)\n",
    "# map_data = MapData(map_name)\n",
    "\n",
    "# for i in range(n_planners):\n",
    "#     if test_ids[i] not in [\"benchmark_e2e_drl\", \"benchmark_pp\", \"benchmark_ftg\", \"benchmark_e2e_il\", \"benchmark_tiny_il_m\", \"benchmark_tiny_il_l\",]:\n",
    "#         df = lap_df[lap_df[\"planner\"] == test_ids[i]]\n",
    "#         ax1.plot(df[\"progress\"]*100, df[\"speed\"], label=neat_planner_names[i], alpha=0.99, color=planner_colors[i], linewidth=2.4)\n",
    "\n",
    "# ax1.grid(True)\n",
    "# ax1.set_ylim(1., 8.5)\n",
    "# ax1.yaxis.set_major_locator(plt.MaxNLocator(4))\n",
    "\n",
    "# plt.legend(ncol=4, loc=\"center\", bbox_to_anchor=(0.48, 1.15), fontsize=10)\n",
    "# plt.xlabel(\"Track progress [%]\")\n",
    "# plt.ylabel(\"Speed [m/s]\")\n",
    "\n",
    "# plt.tight_layout()"
   ]
  },
  {
   "cell_type": "code",
   "execution_count": 15,
   "metadata": {
    "execution": {
     "iopub.execute_input": "2024-08-27T19:52:29.778055Z",
     "iopub.status.busy": "2024-08-27T19:52:29.777841Z",
     "iopub.status.idle": "2024-08-27T19:52:29.779865Z",
     "shell.execute_reply": "2024-08-27T19:52:29.779526Z"
    }
   },
   "outputs": [],
   "source": [
    "# map_name = \"MoscowRaceway\"\n",
    "# lap_n = 5\n",
    "\n",
    "# lap_dfs = []\n",
    "# for i, planner_name in enumerate(planners):\n",
    "#     data = np.load(f\"/home/m810z573/Downloads/f1tenth_benchmarks/f1tenth_benchmarks/benchmark_results/Logs/{planner_name}/RawData_{test_ids[i]}/SimLog_{plot_map}_{lap_n}.npy\")[1:, :] #remove first repeated entry\n",
    "#     df = pd.DataFrame(data, columns=[\"x\", \"y\", \"steer\", \"speed\", \"yaw\", \"yaw_rate\", \"slip\", \"steer_a\", \"speed_a\", \"progress\"])\n",
    "#     #df[\"planner\"] = planner_name\n",
    "#     df[\"planner\"] = test_ids[i]\n",
    "    \n",
    "    \n",
    "#     lap_dfs.append(df)\n",
    "\n",
    "\n",
    "# lap_df = pd.concat(lap_dfs)\n",
    "\n",
    "# fig, ax1 = plt.subplots(1, 1, figsize=(10., 5.2), sharex=True)\n",
    "# map_data = MapData(map_name)\n",
    "\n",
    "# for i in range(n_planners-3):\n",
    "#     if test_ids[i] not in [\"benchmark_tiny_il_l\",\"benchmark_tiny_il\"]:\n",
    "#         df = lap_df[lap_df[\"planner\"] == test_ids[i]]\n",
    "#         ax1.plot(df[\"progress\"]*100, df[\"speed\"], label=neat_planner_names[i], alpha=0.99, color=planner_colors[i], linewidth=2.4)\n",
    "\n",
    "# ax1.grid(True)\n",
    "# ax1.set_ylim(1., 8.5)\n",
    "# ax1.yaxis.set_major_locator(plt.MaxNLocator(4))\n",
    "\n",
    "# plt.legend(ncol=4, loc=\"center\", bbox_to_anchor=(0.48, 1.15), fontsize=10)\n",
    "# plt.xlabel(\"Track progress [%]\")\n",
    "# plt.ylabel(\"Speed [m/s]\")\n"
   ]
  }
 ],
 "metadata": {
  "kernelspec": {
   "display_name": "venv",
   "language": "python",
   "name": "python3"
  },
  "language_info": {
   "codemirror_mode": {
    "name": "ipython",
    "version": 3
   },
   "file_extension": ".py",
   "mimetype": "text/x-python",
   "name": "python",
   "nbconvert_exporter": "python",
   "pygments_lexer": "ipython3",
   "version": "3.9.19"
  }
 },
 "nbformat": 4,
 "nbformat_minor": 2
}
